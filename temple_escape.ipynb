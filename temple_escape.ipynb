{
 "cells": [
  {
   "cell_type": "markdown",
   "metadata": {},
   "source": [
    "# Escaping falling temple\n",
    "\n",
    "you are in a pre-historic temple and accidently step on a foundation stone and temple start shaking.you have the map of the temple but you need shorted way out to survive lets see if this code can save you"
   ]
  },
  {
   "cell_type": "markdown",
   "metadata": {},
   "source": [
    "## Q-learning\n",
    "\n",
    "Q-learning is a reinforcement learning technique used in machine learning. The goal of Q-Learning is to learn a policy, which tells an agent what action to take under what circumstances. It does not require a model of the environment and can handle problems with stochastic transitions and rewards, without requiring adaptations."
   ]
  },
  {
   "cell_type": "code",
   "execution_count": 4,
   "metadata": {},
   "outputs": [],
   "source": [
    "# lets design the teple map all rooms and rewards of each transition\n",
    "\n",
    "import random\n",
    "from random import randint\n",
    "w, h = 6,6;\n",
    "q = [[0 for x in range(w)] for y in range(h)] \n",
    "r = [[-99 for x in range(w)] for y in range(h)] \n",
    "r[1][5]=100\n",
    "r[4][5]=100\n",
    "r[5][5]=100\n",
    "r[0][4]=0\n",
    "r[1][3]=0\n",
    "r[2][3]=0\n",
    "r[3][1]=0\n",
    "r[3][2]=0\n",
    "r[3][4]=0\n",
    "r[4][0]=0\n",
    "r[4][3]=0\n",
    "r[5][2]=0\n",
    "r[5][4]=0\n",
    "\n",
    "g=0.8"
   ]
  },
  {
   "cell_type": "markdown",
   "metadata": {},
   "source": [
    "now we will train our q learning environment to solve the maze for this we select a random position in the maze and try to go to any random location from there and according to that we will train the model just to transit from one room to adjacent room."
   ]
  },
  {
   "cell_type": "code",
   "execution_count": 5,
   "metadata": {},
   "outputs": [],
   "source": [
    "for a in range(500000):\n",
    "    l1=[]\n",
    "    k=randint(0,5)\n",
    "    R=random.choice(r[k])\n",
    "    for i in [i for i,x in enumerate(r[k]) if x == R]:\n",
    "        l1.append(i)\n",
    "    z=random.choice(l1)\n",
    "    q[k][z]=R+(g*(max(r[z])))\n",
    "\n",
    "    "
   ]
  },
  {
   "cell_type": "markdown",
   "metadata": {},
   "source": [
    "after training the q matrix lets see the status of each element"
   ]
  },
  {
   "cell_type": "code",
   "execution_count": 6,
   "metadata": {},
   "outputs": [
    {
     "name": "stdout",
     "output_type": "stream",
     "text": [
      "[[-99.0, -19.0, -99.0, -99.0, 80.0, -19.0], [-99.0, -19.0, -99.0, 0.0, -19.0, 180.0], [-99.0, -19.0, -99.0, 0.0, -19.0, -19.0], [-99.0, 80.0, 0.0, -99.0, 80.0, -19.0], [0.0, -19.0, -99.0, 0.0, -19.0, 180.0], [-99.0, -19.0, 0.0, -99.0, 80.0, 180.0]]\n"
     ]
    }
   ],
   "source": [
    "print(q)"
   ]
  },
  {
   "cell_type": "markdown",
   "metadata": {},
   "source": [
    "so from above we can see that each element got some values like if we see first row its [-99.0, -19.0, -99.0, -99.0, 80.0, -19.0]\n",
    "we can say this that it is the chance of tasnsition from 1st row room to other rooms i.e. from room 0 to other rooms.\n",
    "we will use highest chance of a tansition chance as it will lead us to our destination which is room 5. like in this case we will choose room 4 to go to from room 0."
   ]
  },
  {
   "cell_type": "code",
   "execution_count": null,
   "metadata": {},
   "outputs": [
    {
     "name": "stdout",
     "output_type": "stream",
     "text": [
      "enter the urrent room0\n",
      "0\n",
      "4\n",
      "5\n",
      "you are on destination\n"
     ]
    }
   ],
   "source": [
    "while(1):\n",
    "    nin=int(input('enter the urrent room'))\n",
    "    nout=5\n",
    "    while(1):\n",
    "        print(nin)\n",
    "        if nin==nout:\n",
    "            print('you are on destination')\n",
    "            break\n",
    "        else:\n",
    "            x=max(q[nin])\n",
    "            nin=q[nin].index(x)"
   ]
  },
  {
   "cell_type": "code",
   "execution_count": null,
   "metadata": {},
   "outputs": [],
   "source": []
  }
 ],
 "metadata": {
  "kernelspec": {
   "display_name": "Python 3",
   "language": "python",
   "name": "python3"
  },
  "language_info": {
   "codemirror_mode": {
    "name": "ipython",
    "version": 3
   },
   "file_extension": ".py",
   "mimetype": "text/x-python",
   "name": "python",
   "nbconvert_exporter": "python",
   "pygments_lexer": "ipython3",
   "version": "3.6.5"
  }
 },
 "nbformat": 4,
 "nbformat_minor": 2
}
